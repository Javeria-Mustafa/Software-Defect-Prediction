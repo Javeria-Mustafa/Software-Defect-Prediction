{
  "nbformat": 4,
  "nbformat_minor": 0,
  "metadata": {
    "colab": {
      "provenance": []
    },
    "kernelspec": {
      "name": "python3",
      "display_name": "Python 3"
    },
    "language_info": {
      "name": "python"
    }
  },
  "cells": [
    {
      "cell_type": "code",
      "source": [
        "from google.colab import drive\n",
        "drive.mount('/content/drive')"
      ],
      "metadata": {
        "id": "vDLmR3V1jvBz",
        "colab": {
          "base_uri": "https://localhost:8080/"
        },
        "outputId": "9d114789-7f20-4f28-df5a-a09e2fd3a550"
      },
      "execution_count": 3,
      "outputs": [
        {
          "output_type": "stream",
          "name": "stdout",
          "text": [
            "Mounted at /content/drive\n"
          ]
        }
      ]
    },
    {
      "cell_type": "code",
      "execution_count": 4,
      "metadata": {
        "id": "mTaRWGOjAunl",
        "colab": {
          "base_uri": "https://localhost:8080/",
          "height": 663
        },
        "outputId": "44734649-eb74-4b67-c939-e641b9be7076"
      },
      "outputs": [
        {
          "output_type": "display_data",
          "data": {
            "text/plain": [
              "\u001b[1mYour dataset does not contain any \u001b[0m\u001b[1mnull values\u001b[0m\u001b[1m.\u001b[0m\n"
            ],
            "text/html": [
              "<pre style=\"white-space:pre;overflow-x:auto;line-height:normal;font-family:Menlo,'DejaVu Sans Mono',consolas,'Courier New',monospace\"><span style=\"font-weight: bold\">Your dataset does not contain any null values.</span>\n",
              "</pre>\n"
            ]
          },
          "metadata": {}
        },
        {
          "output_type": "display_data",
          "data": {
            "text/plain": [
              "   LOC_BLANK  BRANCH_COUNT  CALL_PAIRS  LOC_CODE_AND_COMMENT  LOC_COMMENTS  \\\n",
              "\u001b[1;36m0\u001b[0m       \u001b[1;36m17.0\u001b[0m          \u001b[1;36m11.0\u001b[0m         \u001b[1;36m5.0\u001b[0m                   \u001b[1;36m2.0\u001b[0m           \u001b[1;36m8.0\u001b[0m   \n",
              "\u001b[1;36m1\u001b[0m        \u001b[1;36m2.0\u001b[0m           \u001b[1;36m9.0\u001b[0m         \u001b[1;36m3.0\u001b[0m                   \u001b[1;36m0.0\u001b[0m           \u001b[1;36m1.0\u001b[0m   \n",
              "\u001b[1;36m2\u001b[0m        \u001b[1;36m2.0\u001b[0m           \u001b[1;36m5.0\u001b[0m         \u001b[1;36m1.0\u001b[0m                   \u001b[1;36m1.0\u001b[0m           \u001b[1;36m1.0\u001b[0m   \n",
              "\u001b[1;36m3\u001b[0m        \u001b[1;36m4.0\u001b[0m           \u001b[1;36m5.0\u001b[0m         \u001b[1;36m1.0\u001b[0m                   \u001b[1;36m0.0\u001b[0m           \u001b[1;36m0.0\u001b[0m   \n",
              "\u001b[1;36m4\u001b[0m        \u001b[1;36m7.0\u001b[0m           \u001b[1;36m5.0\u001b[0m         \u001b[1;36m1.0\u001b[0m                   \u001b[1;36m3.0\u001b[0m           \u001b[1;36m0.0\u001b[0m   \n",
              "\n",
              "   CONDITION_COUNT  CYCLOMATIC_COMPLEXITY  CYCLOMATIC_DENSITY  DECISION_COUNT  \\\n",
              "\u001b[1;36m0\u001b[0m             \u001b[1;36m20.0\u001b[0m                    \u001b[1;36m6.0\u001b[0m                \u001b[1;36m0.25\u001b[0m            \u001b[1;36m10.0\u001b[0m   \n",
              "\u001b[1;36m1\u001b[0m             \u001b[1;36m16.0\u001b[0m                    \u001b[1;36m5.0\u001b[0m                \u001b[1;36m0.56\u001b[0m             \u001b[1;36m6.0\u001b[0m   \n",
              "\u001b[1;36m2\u001b[0m              \u001b[1;36m6.0\u001b[0m                    \u001b[1;36m3.0\u001b[0m                \u001b[1;36m0.17\u001b[0m             \u001b[1;36m2.0\u001b[0m   \n",
              "\u001b[1;36m3\u001b[0m              \u001b[1;36m8.0\u001b[0m                    \u001b[1;36m3.0\u001b[0m                \u001b[1;36m0.30\u001b[0m             \u001b[1;36m4.0\u001b[0m   \n",
              "\u001b[1;36m4\u001b[0m              \u001b[1;36m0.0\u001b[0m                    \u001b[1;36m3.0\u001b[0m                \u001b[1;36m0.15\u001b[0m             \u001b[1;36m0.0\u001b[0m   \n",
              "\n",
              "   DECISION_DENSITY  \u001b[33m...\u001b[0m  NODE_COUNT  NORMALIZED_CYLOMATIC_COMPLEXITY  \\\n",
              "\u001b[1;36m0\u001b[0m               \u001b[1;36m2.0\u001b[0m  \u001b[33m...\u001b[0m        \u001b[1;36m25.0\u001b[0m                             \u001b[1;36m0.11\u001b[0m   \n",
              "\u001b[1;36m1\u001b[0m               \u001b[1;36m2.0\u001b[0m  \u001b[33m...\u001b[0m        \u001b[1;36m14.0\u001b[0m                             \u001b[1;36m0.36\u001b[0m   \n",
              "\u001b[1;36m2\u001b[0m               \u001b[1;36m3.0\u001b[0m  \u001b[33m...\u001b[0m         \u001b[1;36m7.0\u001b[0m                             \u001b[1;36m0.13\u001b[0m   \n",
              "\u001b[1;36m3\u001b[0m               \u001b[1;36m2.0\u001b[0m  \u001b[33m...\u001b[0m        \u001b[1;36m10.0\u001b[0m                             \u001b[1;36m0.19\u001b[0m   \n",
              "\u001b[1;36m4\u001b[0m               \u001b[1;36m0.0\u001b[0m  \u001b[33m...\u001b[0m        \u001b[1;36m10.0\u001b[0m                             \u001b[1;36m0.11\u001b[0m   \n",
              "\n",
              "   NUM_OPERANDS  NUM_OPERATORS  NUM_UNIQUE_OPERANDS  NUM_UNIQUE_OPERATORS  \\\n",
              "\u001b[1;36m0\u001b[0m          \u001b[1;36m53.0\u001b[0m           \u001b[1;36m49.0\u001b[0m                 \u001b[1;36m23.0\u001b[0m                  \u001b[1;36m12.0\u001b[0m   \n",
              "\u001b[1;36m1\u001b[0m          \u001b[1;36m13.0\u001b[0m           \u001b[1;36m24.0\u001b[0m                  \u001b[1;36m7.0\u001b[0m                  \u001b[1;36m14.0\u001b[0m   \n",
              "\u001b[1;36m2\u001b[0m          \u001b[1;36m16.0\u001b[0m           \u001b[1;36m28.0\u001b[0m                  \u001b[1;36m9.0\u001b[0m                  \u001b[1;36m14.0\u001b[0m   \n",
              "\u001b[1;36m3\u001b[0m          \u001b[1;36m13.0\u001b[0m           \u001b[1;36m16.0\u001b[0m                 \u001b[1;36m10.0\u001b[0m                   \u001b[1;36m9.0\u001b[0m   \n",
              "\u001b[1;36m4\u001b[0m          \u001b[1;36m26.0\u001b[0m           \u001b[1;36m46.0\u001b[0m                  \u001b[1;36m7.0\u001b[0m                   \u001b[1;36m7.0\u001b[0m   \n",
              "\n",
              "   NUMBER_OF_LINES  PERCENT_COMMENTS  LOC_TOTAL         c  \n",
              "\u001b[1;36m0\u001b[0m             \u001b[1;36m57.0\u001b[0m             \u001b[1;36m31.25\u001b[0m       \u001b[1;36m24.0\u001b[0m  \u001b[32mb'FALSE'\u001b[0m  \n",
              "\u001b[1;36m1\u001b[0m             \u001b[1;36m14.0\u001b[0m             \u001b[1;36m10.00\u001b[0m        \u001b[1;36m9.0\u001b[0m  \u001b[32mb'FALSE'\u001b[0m  \n",
              "\u001b[1;36m2\u001b[0m             \u001b[1;36m23.0\u001b[0m             \u001b[1;36m10.53\u001b[0m       \u001b[1;36m18.0\u001b[0m  \u001b[32mb'FALSE'\u001b[0m  \n",
              "\u001b[1;36m3\u001b[0m             \u001b[1;36m16.0\u001b[0m              \u001b[1;36m0.00\u001b[0m       \u001b[1;36m10.0\u001b[0m  \u001b[32mb'FALSE'\u001b[0m  \n",
              "\u001b[1;36m4\u001b[0m             \u001b[1;36m28.0\u001b[0m             \u001b[1;36m15.00\u001b[0m       \u001b[1;36m20.0\u001b[0m  \u001b[32mb'FALSE'\u001b[0m  \n",
              "\n",
              "\u001b[1m[\u001b[0m\u001b[1;36m5\u001b[0m rows x \u001b[1;36m38\u001b[0m columns\u001b[1m]\u001b[0m\n"
            ],
            "text/html": [
              "<pre style=\"white-space:pre;overflow-x:auto;line-height:normal;font-family:Menlo,'DejaVu Sans Mono',consolas,'Courier New',monospace\">   LOC_BLANK  BRANCH_COUNT  CALL_PAIRS  LOC_CODE_AND_COMMENT  LOC_COMMENTS  \\\n",
              "<span style=\"color: #008080; text-decoration-color: #008080; font-weight: bold\">0</span>       <span style=\"color: #008080; text-decoration-color: #008080; font-weight: bold\">17.0</span>          <span style=\"color: #008080; text-decoration-color: #008080; font-weight: bold\">11.0</span>         <span style=\"color: #008080; text-decoration-color: #008080; font-weight: bold\">5.0</span>                   <span style=\"color: #008080; text-decoration-color: #008080; font-weight: bold\">2.0</span>           <span style=\"color: #008080; text-decoration-color: #008080; font-weight: bold\">8.0</span>   \n",
              "<span style=\"color: #008080; text-decoration-color: #008080; font-weight: bold\">1</span>        <span style=\"color: #008080; text-decoration-color: #008080; font-weight: bold\">2.0</span>           <span style=\"color: #008080; text-decoration-color: #008080; font-weight: bold\">9.0</span>         <span style=\"color: #008080; text-decoration-color: #008080; font-weight: bold\">3.0</span>                   <span style=\"color: #008080; text-decoration-color: #008080; font-weight: bold\">0.0</span>           <span style=\"color: #008080; text-decoration-color: #008080; font-weight: bold\">1.0</span>   \n",
              "<span style=\"color: #008080; text-decoration-color: #008080; font-weight: bold\">2</span>        <span style=\"color: #008080; text-decoration-color: #008080; font-weight: bold\">2.0</span>           <span style=\"color: #008080; text-decoration-color: #008080; font-weight: bold\">5.0</span>         <span style=\"color: #008080; text-decoration-color: #008080; font-weight: bold\">1.0</span>                   <span style=\"color: #008080; text-decoration-color: #008080; font-weight: bold\">1.0</span>           <span style=\"color: #008080; text-decoration-color: #008080; font-weight: bold\">1.0</span>   \n",
              "<span style=\"color: #008080; text-decoration-color: #008080; font-weight: bold\">3</span>        <span style=\"color: #008080; text-decoration-color: #008080; font-weight: bold\">4.0</span>           <span style=\"color: #008080; text-decoration-color: #008080; font-weight: bold\">5.0</span>         <span style=\"color: #008080; text-decoration-color: #008080; font-weight: bold\">1.0</span>                   <span style=\"color: #008080; text-decoration-color: #008080; font-weight: bold\">0.0</span>           <span style=\"color: #008080; text-decoration-color: #008080; font-weight: bold\">0.0</span>   \n",
              "<span style=\"color: #008080; text-decoration-color: #008080; font-weight: bold\">4</span>        <span style=\"color: #008080; text-decoration-color: #008080; font-weight: bold\">7.0</span>           <span style=\"color: #008080; text-decoration-color: #008080; font-weight: bold\">5.0</span>         <span style=\"color: #008080; text-decoration-color: #008080; font-weight: bold\">1.0</span>                   <span style=\"color: #008080; text-decoration-color: #008080; font-weight: bold\">3.0</span>           <span style=\"color: #008080; text-decoration-color: #008080; font-weight: bold\">0.0</span>   \n",
              "\n",
              "   CONDITION_COUNT  CYCLOMATIC_COMPLEXITY  CYCLOMATIC_DENSITY  DECISION_COUNT  \\\n",
              "<span style=\"color: #008080; text-decoration-color: #008080; font-weight: bold\">0</span>             <span style=\"color: #008080; text-decoration-color: #008080; font-weight: bold\">20.0</span>                    <span style=\"color: #008080; text-decoration-color: #008080; font-weight: bold\">6.0</span>                <span style=\"color: #008080; text-decoration-color: #008080; font-weight: bold\">0.25</span>            <span style=\"color: #008080; text-decoration-color: #008080; font-weight: bold\">10.0</span>   \n",
              "<span style=\"color: #008080; text-decoration-color: #008080; font-weight: bold\">1</span>             <span style=\"color: #008080; text-decoration-color: #008080; font-weight: bold\">16.0</span>                    <span style=\"color: #008080; text-decoration-color: #008080; font-weight: bold\">5.0</span>                <span style=\"color: #008080; text-decoration-color: #008080; font-weight: bold\">0.56</span>             <span style=\"color: #008080; text-decoration-color: #008080; font-weight: bold\">6.0</span>   \n",
              "<span style=\"color: #008080; text-decoration-color: #008080; font-weight: bold\">2</span>              <span style=\"color: #008080; text-decoration-color: #008080; font-weight: bold\">6.0</span>                    <span style=\"color: #008080; text-decoration-color: #008080; font-weight: bold\">3.0</span>                <span style=\"color: #008080; text-decoration-color: #008080; font-weight: bold\">0.17</span>             <span style=\"color: #008080; text-decoration-color: #008080; font-weight: bold\">2.0</span>   \n",
              "<span style=\"color: #008080; text-decoration-color: #008080; font-weight: bold\">3</span>              <span style=\"color: #008080; text-decoration-color: #008080; font-weight: bold\">8.0</span>                    <span style=\"color: #008080; text-decoration-color: #008080; font-weight: bold\">3.0</span>                <span style=\"color: #008080; text-decoration-color: #008080; font-weight: bold\">0.30</span>             <span style=\"color: #008080; text-decoration-color: #008080; font-weight: bold\">4.0</span>   \n",
              "<span style=\"color: #008080; text-decoration-color: #008080; font-weight: bold\">4</span>              <span style=\"color: #008080; text-decoration-color: #008080; font-weight: bold\">0.0</span>                    <span style=\"color: #008080; text-decoration-color: #008080; font-weight: bold\">3.0</span>                <span style=\"color: #008080; text-decoration-color: #008080; font-weight: bold\">0.15</span>             <span style=\"color: #008080; text-decoration-color: #008080; font-weight: bold\">0.0</span>   \n",
              "\n",
              "   DECISION_DENSITY  <span style=\"color: #808000; text-decoration-color: #808000\">...</span>  NODE_COUNT  NORMALIZED_CYLOMATIC_COMPLEXITY  \\\n",
              "<span style=\"color: #008080; text-decoration-color: #008080; font-weight: bold\">0</span>               <span style=\"color: #008080; text-decoration-color: #008080; font-weight: bold\">2.0</span>  <span style=\"color: #808000; text-decoration-color: #808000\">...</span>        <span style=\"color: #008080; text-decoration-color: #008080; font-weight: bold\">25.0</span>                             <span style=\"color: #008080; text-decoration-color: #008080; font-weight: bold\">0.11</span>   \n",
              "<span style=\"color: #008080; text-decoration-color: #008080; font-weight: bold\">1</span>               <span style=\"color: #008080; text-decoration-color: #008080; font-weight: bold\">2.0</span>  <span style=\"color: #808000; text-decoration-color: #808000\">...</span>        <span style=\"color: #008080; text-decoration-color: #008080; font-weight: bold\">14.0</span>                             <span style=\"color: #008080; text-decoration-color: #008080; font-weight: bold\">0.36</span>   \n",
              "<span style=\"color: #008080; text-decoration-color: #008080; font-weight: bold\">2</span>               <span style=\"color: #008080; text-decoration-color: #008080; font-weight: bold\">3.0</span>  <span style=\"color: #808000; text-decoration-color: #808000\">...</span>         <span style=\"color: #008080; text-decoration-color: #008080; font-weight: bold\">7.0</span>                             <span style=\"color: #008080; text-decoration-color: #008080; font-weight: bold\">0.13</span>   \n",
              "<span style=\"color: #008080; text-decoration-color: #008080; font-weight: bold\">3</span>               <span style=\"color: #008080; text-decoration-color: #008080; font-weight: bold\">2.0</span>  <span style=\"color: #808000; text-decoration-color: #808000\">...</span>        <span style=\"color: #008080; text-decoration-color: #008080; font-weight: bold\">10.0</span>                             <span style=\"color: #008080; text-decoration-color: #008080; font-weight: bold\">0.19</span>   \n",
              "<span style=\"color: #008080; text-decoration-color: #008080; font-weight: bold\">4</span>               <span style=\"color: #008080; text-decoration-color: #008080; font-weight: bold\">0.0</span>  <span style=\"color: #808000; text-decoration-color: #808000\">...</span>        <span style=\"color: #008080; text-decoration-color: #008080; font-weight: bold\">10.0</span>                             <span style=\"color: #008080; text-decoration-color: #008080; font-weight: bold\">0.11</span>   \n",
              "\n",
              "   NUM_OPERANDS  NUM_OPERATORS  NUM_UNIQUE_OPERANDS  NUM_UNIQUE_OPERATORS  \\\n",
              "<span style=\"color: #008080; text-decoration-color: #008080; font-weight: bold\">0</span>          <span style=\"color: #008080; text-decoration-color: #008080; font-weight: bold\">53.0</span>           <span style=\"color: #008080; text-decoration-color: #008080; font-weight: bold\">49.0</span>                 <span style=\"color: #008080; text-decoration-color: #008080; font-weight: bold\">23.0</span>                  <span style=\"color: #008080; text-decoration-color: #008080; font-weight: bold\">12.0</span>   \n",
              "<span style=\"color: #008080; text-decoration-color: #008080; font-weight: bold\">1</span>          <span style=\"color: #008080; text-decoration-color: #008080; font-weight: bold\">13.0</span>           <span style=\"color: #008080; text-decoration-color: #008080; font-weight: bold\">24.0</span>                  <span style=\"color: #008080; text-decoration-color: #008080; font-weight: bold\">7.0</span>                  <span style=\"color: #008080; text-decoration-color: #008080; font-weight: bold\">14.0</span>   \n",
              "<span style=\"color: #008080; text-decoration-color: #008080; font-weight: bold\">2</span>          <span style=\"color: #008080; text-decoration-color: #008080; font-weight: bold\">16.0</span>           <span style=\"color: #008080; text-decoration-color: #008080; font-weight: bold\">28.0</span>                  <span style=\"color: #008080; text-decoration-color: #008080; font-weight: bold\">9.0</span>                  <span style=\"color: #008080; text-decoration-color: #008080; font-weight: bold\">14.0</span>   \n",
              "<span style=\"color: #008080; text-decoration-color: #008080; font-weight: bold\">3</span>          <span style=\"color: #008080; text-decoration-color: #008080; font-weight: bold\">13.0</span>           <span style=\"color: #008080; text-decoration-color: #008080; font-weight: bold\">16.0</span>                 <span style=\"color: #008080; text-decoration-color: #008080; font-weight: bold\">10.0</span>                   <span style=\"color: #008080; text-decoration-color: #008080; font-weight: bold\">9.0</span>   \n",
              "<span style=\"color: #008080; text-decoration-color: #008080; font-weight: bold\">4</span>          <span style=\"color: #008080; text-decoration-color: #008080; font-weight: bold\">26.0</span>           <span style=\"color: #008080; text-decoration-color: #008080; font-weight: bold\">46.0</span>                  <span style=\"color: #008080; text-decoration-color: #008080; font-weight: bold\">7.0</span>                   <span style=\"color: #008080; text-decoration-color: #008080; font-weight: bold\">7.0</span>   \n",
              "\n",
              "   NUMBER_OF_LINES  PERCENT_COMMENTS  LOC_TOTAL         c  \n",
              "<span style=\"color: #008080; text-decoration-color: #008080; font-weight: bold\">0</span>             <span style=\"color: #008080; text-decoration-color: #008080; font-weight: bold\">57.0</span>             <span style=\"color: #008080; text-decoration-color: #008080; font-weight: bold\">31.25</span>       <span style=\"color: #008080; text-decoration-color: #008080; font-weight: bold\">24.0</span>  <span style=\"color: #008000; text-decoration-color: #008000\">b'FALSE'</span>  \n",
              "<span style=\"color: #008080; text-decoration-color: #008080; font-weight: bold\">1</span>             <span style=\"color: #008080; text-decoration-color: #008080; font-weight: bold\">14.0</span>             <span style=\"color: #008080; text-decoration-color: #008080; font-weight: bold\">10.00</span>        <span style=\"color: #008080; text-decoration-color: #008080; font-weight: bold\">9.0</span>  <span style=\"color: #008000; text-decoration-color: #008000\">b'FALSE'</span>  \n",
              "<span style=\"color: #008080; text-decoration-color: #008080; font-weight: bold\">2</span>             <span style=\"color: #008080; text-decoration-color: #008080; font-weight: bold\">23.0</span>             <span style=\"color: #008080; text-decoration-color: #008080; font-weight: bold\">10.53</span>       <span style=\"color: #008080; text-decoration-color: #008080; font-weight: bold\">18.0</span>  <span style=\"color: #008000; text-decoration-color: #008000\">b'FALSE'</span>  \n",
              "<span style=\"color: #008080; text-decoration-color: #008080; font-weight: bold\">3</span>             <span style=\"color: #008080; text-decoration-color: #008080; font-weight: bold\">16.0</span>              <span style=\"color: #008080; text-decoration-color: #008080; font-weight: bold\">0.00</span>       <span style=\"color: #008080; text-decoration-color: #008080; font-weight: bold\">10.0</span>  <span style=\"color: #008000; text-decoration-color: #008000\">b'FALSE'</span>  \n",
              "<span style=\"color: #008080; text-decoration-color: #008080; font-weight: bold\">4</span>             <span style=\"color: #008080; text-decoration-color: #008080; font-weight: bold\">28.0</span>             <span style=\"color: #008080; text-decoration-color: #008080; font-weight: bold\">15.00</span>       <span style=\"color: #008080; text-decoration-color: #008080; font-weight: bold\">20.0</span>  <span style=\"color: #008000; text-decoration-color: #008000\">b'FALSE'</span>  \n",
              "\n",
              "<span style=\"font-weight: bold\">[</span><span style=\"color: #008080; text-decoration-color: #008080; font-weight: bold\">5</span> rows x <span style=\"color: #008080; text-decoration-color: #008080; font-weight: bold\">38</span> columns<span style=\"font-weight: bold\">]</span>\n",
              "</pre>\n"
            ]
          },
          "metadata": {}
        },
        {
          "output_type": "display_data",
          "data": {
            "text/plain": [
              "\u001b[1mYour dataset does not contain any categorical data\u001b[0m.\n"
            ],
            "text/html": [
              "<pre style=\"white-space:pre;overflow-x:auto;line-height:normal;font-family:Menlo,'DejaVu Sans Mono',consolas,'Courier New',monospace\"><span style=\"font-weight: bold\">Your dataset does not contain any categorical data</span>.\n",
              "</pre>\n"
            ]
          },
          "metadata": {}
        }
      ],
      "source": [
        "import matplotlib.pyplot as plt\n",
        "import pandas as pd\n",
        "from sklearn.preprocessing import StandardScaler, OneHotEncoder\n",
        "from sklearn.model_selection import train_test_split\n",
        "from sklearn.linear_model import LogisticRegression\n",
        "from sklearn.ensemble import RandomForestClassifier\n",
        "from sklearn.neighbors import KNeighborsClassifier\n",
        "from sklearn.tree import DecisionTreeClassifier\n",
        "from sklearn.svm import LinearSVC\n",
        "from sklearn.metrics import accuracy_score, f1_score, precision_score, recall_score\n",
        "from sklearn.decomposition import PCA\n",
        "from rich import print\n",
        "\n",
        "# Loading the dataset\n",
        "df = pd.read_csv(\"/content/drive/MyDrive/pc4.csv\")\n",
        "\n",
        "# Check if the dataset contains null values\n",
        "if df.isnull().values.any():\n",
        "    print(\"[bold]Your dataset contains null values. The system will fill the null values with the [bold]mean[/bold] of the data.[/bold]\")\n",
        "\n",
        "    # Fill the null values with the mean\n",
        "    df.fillna(df.mean(), inplace=True)\n",
        "else:\n",
        "    print(\"[bold]Your dataset does not contain any [bold]null values[/bold].[/bold]\")\n",
        "\n",
        "# Print the updated dataset\n",
        "print(df.head())\n",
        "\n",
        "# Separating the target variable\n",
        "X = df.iloc[:, :-1]\n",
        "y = df.iloc[:, -1]\n",
        "\n",
        "# Check if the dataset contains any categorical columns\n",
        "categorical_columns = X.select_dtypes(include=['object']).columns\n",
        "\n",
        "if len(categorical_columns) > 0:\n",
        "    # One-hot encode the categorical variables\n",
        "    encoder = OneHotEncoder()\n",
        "    encoded_data = encoder.fit_transform(X[categorical_columns])\n",
        "    encoded_df = pd.DataFrame(encoded_data.toarray(), index=X.index)\n",
        "\n",
        "    # Retrieve the encoded feature names\n",
        "    encoded_columns = []\n",
        "    for i, column in enumerate(categorical_columns):\n",
        "        categories = encoder.categories_[i]\n",
        "        encoded_columns.extend([f'{column}_{category}' for category in categories])\n",
        "\n",
        "    encoded_df.columns = encoded_columns\n",
        "\n",
        "    # Dropping the original categorical columns from the DataFrame\n",
        "    X = X.drop(categorical_columns, axis=1)\n",
        "\n",
        "    # Concatenate the encoded DataFrame with the \\original DataFrame\n",
        "    X = pd.concat([X, encoded_df], axis=1)\n",
        "\n",
        "    print(\"[bold]Categorical data has been converted to numerical using one-hot encoding[/bold].\")\n",
        "else:\n",
        "    print(\"[bold]Your dataset does not contain any categorical data[/bold].\")\n",
        "\n",
        "# Split the data into training and testing sets\n",
        "X_train, X_test, y_train, y_test = train_test_split(X, y, test_size=0.2)"
      ]
    },
    {
      "cell_type": "code",
      "source": [
        "#Normalization by Standard Scaler\n",
        "sc= StandardScaler()\n",
        "X_train= sc.fit_transform(X_train)\n",
        "X_test= sc.transform(X_test)\n"
      ],
      "metadata": {
        "id": "c5SySS390gdD"
      },
      "execution_count": 5,
      "outputs": []
    },
    {
      "cell_type": "code",
      "source": [
        "print(\"For dimentionality reduction the PCA technique is used. \")\n",
        "pca = PCA(n_components=18, svd_solver='full')\n",
        "X_train_pca = pca.fit_transform(X_train)\n",
        "X_test_pca = pca.transform(X_test)\n"
      ],
      "metadata": {
        "id": "44qawZoo0gui",
        "colab": {
          "base_uri": "https://localhost:8080/",
          "height": 34
        },
        "outputId": "97debd51-8c2a-40ab-e635-01c68b558d47"
      },
      "execution_count": 6,
      "outputs": [
        {
          "output_type": "display_data",
          "data": {
            "text/plain": [
              "For dimentionality reduction the PCA technique is used. \n"
            ],
            "text/html": [
              "<pre style=\"white-space:pre;overflow-x:auto;line-height:normal;font-family:Menlo,'DejaVu Sans Mono',consolas,'Courier New',monospace\">For dimentionality reduction the PCA technique is used. \n",
              "</pre>\n"
            ]
          },
          "metadata": {}
        }
      ]
    },
    {
      "cell_type": "code",
      "source": [
        "print(\"This graph explained variance ratio of each principal component to the variable importance. The explained variance ratio indicates the proportion of the dataset's variance explained by each principal component.\")\n",
        "importance=pca.explained_variance_ratio_\n",
        "# summarize feature importance\n",
        "for i,v in enumerate(importance):\n",
        "  print('Feature: %0d, Score: %.5f' % (i,v))\n",
        "# plot feature importance\n",
        "plt.bar([x for x in range(len(importance))], importance)\n",
        "plt.show()\n"
      ],
      "metadata": {
        "id": "1mMqzwGX0g8I",
        "colab": {
          "base_uri": "https://localhost:8080/",
          "height": 770
        },
        "outputId": "890fec96-d478-4b6b-b0a2-66d90beb0b14"
      },
      "execution_count": 7,
      "outputs": [
        {
          "output_type": "display_data",
          "data": {
            "text/plain": [
              "This graph explained variance ratio of each principal component to the variable importance. The explained variance \n",
              "ratio indicates the proportion of the dataset's variance explained by each principal component.\n"
            ],
            "text/html": [
              "<pre style=\"white-space:pre;overflow-x:auto;line-height:normal;font-family:Menlo,'DejaVu Sans Mono',consolas,'Courier New',monospace\">This graph explained variance ratio of each principal component to the variable importance. The explained variance \n",
              "ratio indicates the proportion of the dataset's variance explained by each principal component.\n",
              "</pre>\n"
            ]
          },
          "metadata": {}
        },
        {
          "output_type": "display_data",
          "data": {
            "text/plain": [
              "Feature: \u001b[1;36m0\u001b[0m, Score: \u001b[1;36m0.40948\u001b[0m\n"
            ],
            "text/html": [
              "<pre style=\"white-space:pre;overflow-x:auto;line-height:normal;font-family:Menlo,'DejaVu Sans Mono',consolas,'Courier New',monospace\">Feature: <span style=\"color: #008080; text-decoration-color: #008080; font-weight: bold\">0</span>, Score: <span style=\"color: #008080; text-decoration-color: #008080; font-weight: bold\">0.40948</span>\n",
              "</pre>\n"
            ]
          },
          "metadata": {}
        },
        {
          "output_type": "display_data",
          "data": {
            "text/plain": [
              "Feature: \u001b[1;36m1\u001b[0m, Score: \u001b[1;36m0.12059\u001b[0m\n"
            ],
            "text/html": [
              "<pre style=\"white-space:pre;overflow-x:auto;line-height:normal;font-family:Menlo,'DejaVu Sans Mono',consolas,'Courier New',monospace\">Feature: <span style=\"color: #008080; text-decoration-color: #008080; font-weight: bold\">1</span>, Score: <span style=\"color: #008080; text-decoration-color: #008080; font-weight: bold\">0.12059</span>\n",
              "</pre>\n"
            ]
          },
          "metadata": {}
        },
        {
          "output_type": "display_data",
          "data": {
            "text/plain": [
              "Feature: \u001b[1;36m2\u001b[0m, Score: \u001b[1;36m0.09228\u001b[0m\n"
            ],
            "text/html": [
              "<pre style=\"white-space:pre;overflow-x:auto;line-height:normal;font-family:Menlo,'DejaVu Sans Mono',consolas,'Courier New',monospace\">Feature: <span style=\"color: #008080; text-decoration-color: #008080; font-weight: bold\">2</span>, Score: <span style=\"color: #008080; text-decoration-color: #008080; font-weight: bold\">0.09228</span>\n",
              "</pre>\n"
            ]
          },
          "metadata": {}
        },
        {
          "output_type": "display_data",
          "data": {
            "text/plain": [
              "Feature: \u001b[1;36m3\u001b[0m, Score: \u001b[1;36m0.06861\u001b[0m\n"
            ],
            "text/html": [
              "<pre style=\"white-space:pre;overflow-x:auto;line-height:normal;font-family:Menlo,'DejaVu Sans Mono',consolas,'Courier New',monospace\">Feature: <span style=\"color: #008080; text-decoration-color: #008080; font-weight: bold\">3</span>, Score: <span style=\"color: #008080; text-decoration-color: #008080; font-weight: bold\">0.06861</span>\n",
              "</pre>\n"
            ]
          },
          "metadata": {}
        },
        {
          "output_type": "display_data",
          "data": {
            "text/plain": [
              "Feature: \u001b[1;36m4\u001b[0m, Score: \u001b[1;36m0.04821\u001b[0m\n"
            ],
            "text/html": [
              "<pre style=\"white-space:pre;overflow-x:auto;line-height:normal;font-family:Menlo,'DejaVu Sans Mono',consolas,'Courier New',monospace\">Feature: <span style=\"color: #008080; text-decoration-color: #008080; font-weight: bold\">4</span>, Score: <span style=\"color: #008080; text-decoration-color: #008080; font-weight: bold\">0.04821</span>\n",
              "</pre>\n"
            ]
          },
          "metadata": {}
        },
        {
          "output_type": "display_data",
          "data": {
            "text/plain": [
              "Feature: \u001b[1;36m5\u001b[0m, Score: \u001b[1;36m0.04228\u001b[0m\n"
            ],
            "text/html": [
              "<pre style=\"white-space:pre;overflow-x:auto;line-height:normal;font-family:Menlo,'DejaVu Sans Mono',consolas,'Courier New',monospace\">Feature: <span style=\"color: #008080; text-decoration-color: #008080; font-weight: bold\">5</span>, Score: <span style=\"color: #008080; text-decoration-color: #008080; font-weight: bold\">0.04228</span>\n",
              "</pre>\n"
            ]
          },
          "metadata": {}
        },
        {
          "output_type": "display_data",
          "data": {
            "text/plain": [
              "Feature: \u001b[1;36m6\u001b[0m, Score: \u001b[1;36m0.03474\u001b[0m\n"
            ],
            "text/html": [
              "<pre style=\"white-space:pre;overflow-x:auto;line-height:normal;font-family:Menlo,'DejaVu Sans Mono',consolas,'Courier New',monospace\">Feature: <span style=\"color: #008080; text-decoration-color: #008080; font-weight: bold\">6</span>, Score: <span style=\"color: #008080; text-decoration-color: #008080; font-weight: bold\">0.03474</span>\n",
              "</pre>\n"
            ]
          },
          "metadata": {}
        },
        {
          "output_type": "display_data",
          "data": {
            "text/plain": [
              "Feature: \u001b[1;36m7\u001b[0m, Score: \u001b[1;36m0.02580\u001b[0m\n"
            ],
            "text/html": [
              "<pre style=\"white-space:pre;overflow-x:auto;line-height:normal;font-family:Menlo,'DejaVu Sans Mono',consolas,'Courier New',monospace\">Feature: <span style=\"color: #008080; text-decoration-color: #008080; font-weight: bold\">7</span>, Score: <span style=\"color: #008080; text-decoration-color: #008080; font-weight: bold\">0.02580</span>\n",
              "</pre>\n"
            ]
          },
          "metadata": {}
        },
        {
          "output_type": "display_data",
          "data": {
            "text/plain": [
              "Feature: \u001b[1;36m8\u001b[0m, Score: \u001b[1;36m0.02529\u001b[0m\n"
            ],
            "text/html": [
              "<pre style=\"white-space:pre;overflow-x:auto;line-height:normal;font-family:Menlo,'DejaVu Sans Mono',consolas,'Courier New',monospace\">Feature: <span style=\"color: #008080; text-decoration-color: #008080; font-weight: bold\">8</span>, Score: <span style=\"color: #008080; text-decoration-color: #008080; font-weight: bold\">0.02529</span>\n",
              "</pre>\n"
            ]
          },
          "metadata": {}
        },
        {
          "output_type": "display_data",
          "data": {
            "text/plain": [
              "Feature: \u001b[1;36m9\u001b[0m, Score: \u001b[1;36m0.01831\u001b[0m\n"
            ],
            "text/html": [
              "<pre style=\"white-space:pre;overflow-x:auto;line-height:normal;font-family:Menlo,'DejaVu Sans Mono',consolas,'Courier New',monospace\">Feature: <span style=\"color: #008080; text-decoration-color: #008080; font-weight: bold\">9</span>, Score: <span style=\"color: #008080; text-decoration-color: #008080; font-weight: bold\">0.01831</span>\n",
              "</pre>\n"
            ]
          },
          "metadata": {}
        },
        {
          "output_type": "display_data",
          "data": {
            "text/plain": [
              "Feature: \u001b[1;36m10\u001b[0m, Score: \u001b[1;36m0.01732\u001b[0m\n"
            ],
            "text/html": [
              "<pre style=\"white-space:pre;overflow-x:auto;line-height:normal;font-family:Menlo,'DejaVu Sans Mono',consolas,'Courier New',monospace\">Feature: <span style=\"color: #008080; text-decoration-color: #008080; font-weight: bold\">10</span>, Score: <span style=\"color: #008080; text-decoration-color: #008080; font-weight: bold\">0.01732</span>\n",
              "</pre>\n"
            ]
          },
          "metadata": {}
        },
        {
          "output_type": "display_data",
          "data": {
            "text/plain": [
              "Feature: \u001b[1;36m11\u001b[0m, Score: \u001b[1;36m0.01473\u001b[0m\n"
            ],
            "text/html": [
              "<pre style=\"white-space:pre;overflow-x:auto;line-height:normal;font-family:Menlo,'DejaVu Sans Mono',consolas,'Courier New',monospace\">Feature: <span style=\"color: #008080; text-decoration-color: #008080; font-weight: bold\">11</span>, Score: <span style=\"color: #008080; text-decoration-color: #008080; font-weight: bold\">0.01473</span>\n",
              "</pre>\n"
            ]
          },
          "metadata": {}
        },
        {
          "output_type": "display_data",
          "data": {
            "text/plain": [
              "Feature: \u001b[1;36m12\u001b[0m, Score: \u001b[1;36m0.01368\u001b[0m\n"
            ],
            "text/html": [
              "<pre style=\"white-space:pre;overflow-x:auto;line-height:normal;font-family:Menlo,'DejaVu Sans Mono',consolas,'Courier New',monospace\">Feature: <span style=\"color: #008080; text-decoration-color: #008080; font-weight: bold\">12</span>, Score: <span style=\"color: #008080; text-decoration-color: #008080; font-weight: bold\">0.01368</span>\n",
              "</pre>\n"
            ]
          },
          "metadata": {}
        },
        {
          "output_type": "display_data",
          "data": {
            "text/plain": [
              "Feature: \u001b[1;36m13\u001b[0m, Score: \u001b[1;36m0.01212\u001b[0m\n"
            ],
            "text/html": [
              "<pre style=\"white-space:pre;overflow-x:auto;line-height:normal;font-family:Menlo,'DejaVu Sans Mono',consolas,'Courier New',monospace\">Feature: <span style=\"color: #008080; text-decoration-color: #008080; font-weight: bold\">13</span>, Score: <span style=\"color: #008080; text-decoration-color: #008080; font-weight: bold\">0.01212</span>\n",
              "</pre>\n"
            ]
          },
          "metadata": {}
        },
        {
          "output_type": "display_data",
          "data": {
            "text/plain": [
              "Feature: \u001b[1;36m14\u001b[0m, Score: \u001b[1;36m0.01099\u001b[0m\n"
            ],
            "text/html": [
              "<pre style=\"white-space:pre;overflow-x:auto;line-height:normal;font-family:Menlo,'DejaVu Sans Mono',consolas,'Courier New',monospace\">Feature: <span style=\"color: #008080; text-decoration-color: #008080; font-weight: bold\">14</span>, Score: <span style=\"color: #008080; text-decoration-color: #008080; font-weight: bold\">0.01099</span>\n",
              "</pre>\n"
            ]
          },
          "metadata": {}
        },
        {
          "output_type": "display_data",
          "data": {
            "text/plain": [
              "Feature: \u001b[1;36m15\u001b[0m, Score: \u001b[1;36m0.00949\u001b[0m\n"
            ],
            "text/html": [
              "<pre style=\"white-space:pre;overflow-x:auto;line-height:normal;font-family:Menlo,'DejaVu Sans Mono',consolas,'Courier New',monospace\">Feature: <span style=\"color: #008080; text-decoration-color: #008080; font-weight: bold\">15</span>, Score: <span style=\"color: #008080; text-decoration-color: #008080; font-weight: bold\">0.00949</span>\n",
              "</pre>\n"
            ]
          },
          "metadata": {}
        },
        {
          "output_type": "display_data",
          "data": {
            "text/plain": [
              "Feature: \u001b[1;36m16\u001b[0m, Score: \u001b[1;36m0.00672\u001b[0m\n"
            ],
            "text/html": [
              "<pre style=\"white-space:pre;overflow-x:auto;line-height:normal;font-family:Menlo,'DejaVu Sans Mono',consolas,'Courier New',monospace\">Feature: <span style=\"color: #008080; text-decoration-color: #008080; font-weight: bold\">16</span>, Score: <span style=\"color: #008080; text-decoration-color: #008080; font-weight: bold\">0.00672</span>\n",
              "</pre>\n"
            ]
          },
          "metadata": {}
        },
        {
          "output_type": "display_data",
          "data": {
            "text/plain": [
              "Feature: \u001b[1;36m17\u001b[0m, Score: \u001b[1;36m0.00535\u001b[0m\n"
            ],
            "text/html": [
              "<pre style=\"white-space:pre;overflow-x:auto;line-height:normal;font-family:Menlo,'DejaVu Sans Mono',consolas,'Courier New',monospace\">Feature: <span style=\"color: #008080; text-decoration-color: #008080; font-weight: bold\">17</span>, Score: <span style=\"color: #008080; text-decoration-color: #008080; font-weight: bold\">0.00535</span>\n",
              "</pre>\n"
            ]
          },
          "metadata": {}
        },
        {
          "output_type": "display_data",
          "data": {
            "text/plain": [
              "<Figure size 640x480 with 1 Axes>"
            ],
            "image/png": "[encoded data removed]"
          },
          "metadata": {}
        }
      ]
    },
    {
      "cell_type": "code",
      "source": [
        "# fit the model\n",
        "model_lr = LogisticRegression(solver='liblinear')\n",
        "model_rf = RandomForestClassifier(n_estimators=40, random_state=42)\n",
        "model_knn= KNeighborsClassifier()\n",
        "model_dt = DecisionTreeClassifier()\n",
        "model_lsvm=LinearSVC()\n",
        "\n"
      ],
      "metadata": {
        "id": "F-gH_gMk0g_y"
      },
      "execution_count": 8,
      "outputs": []
    },
    {
      "cell_type": "code",
      "source": [
        "model_lr.fit(X_train, y_train)\n",
        "model_rf.fit(X_train, y_train)\n",
        "model_knn.fit(X_train, y_train)\n",
        "model_dt.fit(X_train, y_train)\n",
        "model_lsvm.fit(X_train, y_train)\n"
      ],
      "metadata": {
        "id": "1S9dtcZg0hSH",
        "colab": {
          "base_uri": "https://localhost:8080/",
          "height": 80
        },
        "outputId": "425e70d0-0613-4b97-81d1-6eaf62fbefd7"
      },
      "execution_count": 9,
      "outputs": [
        {
          "output_type": "execute_result",
          "data": {
            "text/plain": [
              "LinearSVC()"
            ],
            "text/html": [
              "<style>#sk-container-id-1 {\n",
              "  /* Definition of color scheme common for light and dark mode */\n",
              "  --sklearn-color-text: #000;\n",
              "  --sklearn-color-text-muted: #666;\n",
              "  --sklearn-color-line: gray;\n",
              "  /* Definition of color scheme for unfitted estimators */\n",
              "  --sklearn-color-unfitted-level-0: #fff5e6;\n",
              "  --sklearn-color-unfitted-level-1: #f6e4d2;\n",
              "  --sklearn-color-unfitted-level-2: #ffe0b3;\n",
              "  --sklearn-color-unfitted-level-3: chocolate;\n",
              "  /* Definition of color scheme for fitted estimators */\n",
              "  --sklearn-color-fitted-level-0: #f0f8ff;\n",
              "  --sklearn-color-fitted-level-1: #d4ebff;\n",
              "  --sklearn-color-fitted-level-2: #b3dbfd;\n",
              "  --sklearn-color-fitted-level-3: cornflowerblue;\n",
              "\n",
              "  /* Specific color for light theme */\n",
              "  --sklearn-color-text-on-default-background: var(--sg-text-color, var(--theme-code-foreground, var(--jp-content-font-color1, black)));\n",
              "  --sklearn-color-background: var(--sg-background-color, var(--theme-background, var(--jp-layout-color0, white)));\n",
              "  --sklearn-color-border-box: var(--sg-text-color, var(--theme-code-foreground, var(--jp-content-font-color1, black)));\n",
              "  --sklearn-color-icon: #696969;\n",
              "\n",
              "  @media (prefers-color-scheme: dark) {\n",
              "    /* Redefinition of color scheme for dark theme */\n",
              "    --sklearn-color-text-on-default-background: var(--sg-text-color, var(--theme-code-foreground, var(--jp-content-font-color1, white)));\n",
              "    --sklearn-color-background: var(--sg-background-color, var(--theme-background, var(--jp-layout-color0, #111)));\n",
              "    --sklearn-color-border-box: var(--sg-text-color, var(--theme-code-foreground, var(--jp-content-font-color1, white)));\n",
              "    --sklearn-color-icon: #878787;\n",
              "  }\n",
              "}\n",
              "\n",
              "#sk-container-id-1 {\n",
              "  color: var(--sklearn-color-text);\n",
              "}\n",
              "\n",
              "#sk-container-id-1 pre {\n",
              "  padding: 0;\n",
              "}\n",
              "\n",
              "#sk-container-id-1 input.sk-hidden--visually {\n",
              "  border: 0;\n",
              "  clip: rect(1px 1px 1px 1px);\n",
              "  clip: rect(1px, 1px, 1px, 1px);\n",
              "  height: 1px;\n",
              "  margin: -1px;\n",
              "  overflow: hidden;\n",
              "  padding: 0;\n",
              "  position: absolute;\n",
              "  width: 1px;\n",
              "}\n",
              "\n",
              "#sk-container-id-1 div.sk-dashed-wrapped {\n",
              "  border: 1px dashed var(--sklearn-color-line);\n",
              "  margin: 0 0.4em 0.5em 0.4em;\n",
              "  box-sizing: border-box;\n",
              "  padding-bottom: 0.4em;\n",
              "  background-color: var(--sklearn-color-background);\n",
              "}\n",
              "\n",
              "#sk-container-id-1 div.sk-container {\n",
              "  /* jupyter's `normalize.less` sets `[hidden] { display: none; }`\n",
              "     but bootstrap.min.css set `[hidden] { display: none !important; }`\n",
              "     so we also need the `!important` here to be able to override the\n",
              "     default hidden behavior on the sphinx rendered scikit-learn.org.\n",
              "     See: https://github.com/scikit-learn/scikit-learn/issues/21755 */\n",
              "  display: inline-block !important;\n",
              "  position: relative;\n",
              "}\n",
              "\n",
              "#sk-container-id-1 div.sk-text-repr-fallback {\n",
              "  display: none;\n",
              "}\n",
              "\n",
              "div.sk-parallel-item,\n",
              "div.sk-serial,\n",
              "div.sk-item {\n",
              "  /* draw centered vertical line to link estimators */\n",
              "  background-image: linear-gradient(var(--sklearn-color-text-on-default-background), var(--sklearn-color-text-on-default-background));\n",
              "  background-size: 2px 100%;\n",
              "  background-repeat: no-repeat;\n",
              "  background-position: center center;\n",
              "}\n",
              "\n",
              "/* Parallel-specific style estimator block */\n",
              "\n",
              "#sk-container-id-1 div.sk-parallel-item::after {\n",
              "  content: \"\";\n",
              "  width: 100%;\n",
              "  border-bottom: 2px solid var(--sklearn-color-text-on-default-background);\n",
              "  flex-grow: 1;\n",
              "}\n",
              "\n",
              "#sk-container-id-1 div.sk-parallel {\n",
              "  display: flex;\n",
              "  align-items: stretch;\n",
              "  justify-content: center;\n",
              "  background-color: var(--sklearn-color-background);\n",
              "  position: relative;\n",
              "}\n",
              "\n",
              "#sk-container-id-1 div.sk-parallel-item {\n",
              "  display: flex;\n",
              "  flex-direction: column;\n",
              "}\n",
              "\n",
              "#sk-container-id-1 div.sk-parallel-item:first-child::after {\n",
              "  align-self: flex-end;\n",
              "  width: 50%;\n",
              "}\n",
              "\n",
              "#sk-container-id-1 div.sk-parallel-item:last-child::after {\n",
              "  align-self: flex-start;\n",
              "  width: 50%;\n",
              "}\n",
              "\n",
              "#sk-container-id-1 div.sk-parallel-item:only-child::after {\n",
              "  width: 0;\n",
              "}\n",
              "\n",
              "/* Serial-specific style estimator block */\n",
              "\n",
              "#sk-container-id-1 div.sk-serial {\n",
              "  display: flex;\n",
              "  flex-direction: column;\n",
              "  align-items: center;\n",
              "  background-color: var(--sklearn-color-background);\n",
              "  padding-right: 1em;\n",
              "  padding-left: 1em;\n",
              "}\n",
              "\n",
              "\n",
              "/* Toggleable style: style used for estimator/Pipeline/ColumnTransformer box that is\n",
              "clickable and can be expanded/collapsed.\n",
              "- Pipeline and ColumnTransformer use this feature and define the default style\n",
              "- Estimators will overwrite some part of the style using the `sk-estimator` class\n",
              "*/\n",
              "\n",
              "/* Pipeline and ColumnTransformer style (default) */\n",
              "\n",
              "#sk-container-id-1 div.sk-toggleable {\n",
              "  /* Default theme specific background. It is overwritten whether we have a\n",
              "  specific estimator or a Pipeline/ColumnTransformer */\n",
              "  background-color: var(--sklearn-color-background);\n",
              "}\n",
              "\n",
              "/* Toggleable label */\n",
              "#sk-container-id-1 label.sk-toggleable__label {\n",
              "  cursor: pointer;\n",
              "  display: flex;\n",
              "  width: 100%;\n",
              "  margin-bottom: 0;\n",
              "  padding: 0.5em;\n",
              "  box-sizing: border-box;\n",
              "  text-align: center;\n",
              "  align-items: start;\n",
              "  justify-content: space-between;\n",
              "  gap: 0.5em;\n",
              "}\n",
              "\n",
              "#sk-container-id-1 label.sk-toggleable__label .caption {\n",
              "  font-size: 0.6rem;\n",
              "  font-weight: lighter;\n",
              "  color: var(--sklearn-color-text-muted);\n",
              "}\n",
              "\n",
              "#sk-container-id-1 label.sk-toggleable__label-arrow:before {\n",
              "  /* Arrow on the left of the label */\n",
              "  content: \"▸\";\n",
              "  float: left;\n",
              "  margin-right: 0.25em;\n",
              "  color: var(--sklearn-color-icon);\n",
              "}\n",
              "\n",
              "#sk-container-id-1 label.sk-toggleable__label-arrow:hover:before {\n",
              "  color: var(--sklearn-color-text);\n",
              "}\n",
              "\n",
              "/* Toggleable content - dropdown */\n",
              "\n",
              "#sk-container-id-1 div.sk-toggleable__content {\n",
              "  max-height: 0;\n",
              "  max-width: 0;\n",
              "  overflow: hidden;\n",
              "  text-align: left;\n",
              "  /* unfitted */\n",
              "  background-color: var(--sklearn-color-unfitted-level-0);\n",
              "}\n",
              "\n",
              "#sk-container-id-1 div.sk-toggleable__content.fitted {\n",
              "  /* fitted */\n",
              "  background-color: var(--sklearn-color-fitted-level-0);\n",
              "}\n",
              "\n",
              "#sk-container-id-1 div.sk-toggleable__content pre {\n",
              "  margin: 0.2em;\n",
              "  border-radius: 0.25em;\n",
              "  color: var(--sklearn-color-text);\n",
              "  /* unfitted */\n",
              "  background-color: var(--sklearn-color-unfitted-level-0);\n",
              "}\n",
              "\n",
              "#sk-container-id-1 div.sk-toggleable__content.fitted pre {\n",
              "  /* unfitted */\n",
              "  background-color: var(--sklearn-color-fitted-level-0);\n",
              "}\n",
              "\n",
              "#sk-container-id-1 input.sk-toggleable__control:checked~div.sk-toggleable__content {\n",
              "  /* Expand drop-down */\n",
              "  max-height: 200px;\n",
              "  max-width: 100%;\n",
              "  overflow: auto;\n",
              "}\n",
              "\n",
              "#sk-container-id-1 input.sk-toggleable__control:checked~label.sk-toggleable__label-arrow:before {\n",
              "  content: \"▾\";\n",
              "}\n",
              "\n",
              "/* Pipeline/ColumnTransformer-specific style */\n",
              "\n",
              "#sk-container-id-1 div.sk-label input.sk-toggleable__control:checked~label.sk-toggleable__label {\n",
              "  color: var(--sklearn-color-text);\n",
              "  background-color: var(--sklearn-color-unfitted-level-2);\n",
              "}\n",
              "\n",
              "#sk-container-id-1 div.sk-label.fitted input.sk-toggleable__control:checked~label.sk-toggleable__label {\n",
              "  background-color: var(--sklearn-color-fitted-level-2);\n",
              "}\n",
              "\n",
              "/* Estimator-specific style */\n",
              "\n",
              "/* Colorize estimator box */\n",
              "#sk-container-id-1 div.sk-estimator input.sk-toggleable__control:checked~label.sk-toggleable__label {\n",
              "  /* unfitted */\n",
              "  background-color: var(--sklearn-color-unfitted-level-2);\n",
              "}\n",
              "\n",
              "#sk-container-id-1 div.sk-estimator.fitted input.sk-toggleable__control:checked~label.sk-toggleable__label {\n",
              "  /* fitted */\n",
              "  background-color: var(--sklearn-color-fitted-level-2);\n",
              "}\n",
              "\n",
              "#sk-container-id-1 div.sk-label label.sk-toggleable__label,\n",
              "#sk-container-id-1 div.sk-label label {\n",
              "  /* The background is the default theme color */\n",
              "  color: var(--sklearn-color-text-on-default-background);\n",
              "}\n",
              "\n",
              "/* On hover, darken the color of the background */\n",
              "#sk-container-id-1 div.sk-label:hover label.sk-toggleable__label {\n",
              "  color: var(--sklearn-color-text);\n",
              "  background-color: var(--sklearn-color-unfitted-level-2);\n",
              "}\n",
              "\n",
              "/* Label box, darken color on hover, fitted */\n",
              "#sk-container-id-1 div.sk-label.fitted:hover label.sk-toggleable__label.fitted {\n",
              "  color: var(--sklearn-color-text);\n",
              "  background-color: var(--sklearn-color-fitted-level-2);\n",
              "}\n",
              "\n",
              "/* Estimator label */\n",
              "\n",
              "#sk-container-id-1 div.sk-label label {\n",
              "  font-family: monospace;\n",
              "  font-weight: bold;\n",
              "  display: inline-block;\n",
              "  line-height: 1.2em;\n",
              "}\n",
              "\n",
              "#sk-container-id-1 div.sk-label-container {\n",
              "  text-align: center;\n",
              "}\n",
              "\n",
              "/* Estimator-specific */\n",
              "#sk-container-id-1 div.sk-estimator {\n",
              "  font-family: monospace;\n",
              "  border: 1px dotted var(--sklearn-color-border-box);\n",
              "  border-radius: 0.25em;\n",
              "  box-sizing: border-box;\n",
              "  margin-bottom: 0.5em;\n",
              "  /* unfitted */\n",
              "  background-color: var(--sklearn-color-unfitted-level-0);\n",
              "}\n",
              "\n",
              "#sk-container-id-1 div.sk-estimator.fitted {\n",
              "  /* fitted */\n",
              "  background-color: var(--sklearn-color-fitted-level-0);\n",
              "}\n",
              "\n",
              "/* on hover */\n",
              "#sk-container-id-1 div.sk-estimator:hover {\n",
              "  /* unfitted */\n",
              "  background-color: var(--sklearn-color-unfitted-level-2);\n",
              "}\n",
              "\n",
              "#sk-container-id-1 div.sk-estimator.fitted:hover {\n",
              "  /* fitted */\n",
              "  background-color: var(--sklearn-color-fitted-level-2);\n",
              "}\n",
              "\n",
              "/* Specification for estimator info (e.g. \"i\" and \"?\") */\n",
              "\n",
              "/* Common style for \"i\" and \"?\" */\n",
              "\n",
              ".sk-estimator-doc-link,\n",
              "a:link.sk-estimator-doc-link,\n",
              "a:visited.sk-estimator-doc-link {\n",
              "  float: right;\n",
              "  font-size: smaller;\n",
              "  line-height: 1em;\n",
              "  font-family: monospace;\n",
              "  background-color: var(--sklearn-color-background);\n",
              "  border-radius: 1em;\n",
              "  height: 1em;\n",
              "  width: 1em;\n",
              "  text-decoration: none !important;\n",
              "  margin-left: 0.5em;\n",
              "  text-align: center;\n",
              "  /* unfitted */\n",
              "  border: var(--sklearn-color-unfitted-level-1) 1pt solid;\n",
              "  color: var(--sklearn-color-unfitted-level-1);\n",
              "}\n",
              "\n",
              ".sk-estimator-doc-link.fitted,\n",
              "a:link.sk-estimator-doc-link.fitted,\n",
              "a:visited.sk-estimator-doc-link.fitted {\n",
              "  /* fitted */\n",
              "  border: var(--sklearn-color-fitted-level-1) 1pt solid;\n",
              "  color: var(--sklearn-color-fitted-level-1);\n",
              "}\n",
              "\n",
              "/* On hover */\n",
              "div.sk-estimator:hover .sk-estimator-doc-link:hover,\n",
              ".sk-estimator-doc-link:hover,\n",
              "div.sk-label-container:hover .sk-estimator-doc-link:hover,\n",
              ".sk-estimator-doc-link:hover {\n",
              "  /* unfitted */\n",
              "  background-color: var(--sklearn-color-unfitted-level-3);\n",
              "  color: var(--sklearn-color-background);\n",
              "  text-decoration: none;\n",
              "}\n",
              "\n",
              "div.sk-estimator.fitted:hover .sk-estimator-doc-link.fitted:hover,\n",
              ".sk-estimator-doc-link.fitted:hover,\n",
              "div.sk-label-container:hover .sk-estimator-doc-link.fitted:hover,\n",
              ".sk-estimator-doc-link.fitted:hover {\n",
              "  /* fitted */\n",
              "  background-color: var(--sklearn-color-fitted-level-3);\n",
              "  color: var(--sklearn-color-background);\n",
              "  text-decoration: none;\n",
              "}\n",
              "\n",
              "/* Span, style for the box shown on hovering the info icon */\n",
              ".sk-estimator-doc-link span {\n",
              "  display: none;\n",
              "  z-index: 9999;\n",
              "  position: relative;\n",
              "  font-weight: normal;\n",
              "  right: .2ex;\n",
              "  padding: .5ex;\n",
              "  margin: .5ex;\n",
              "  width: min-content;\n",
              "  min-width: 20ex;\n",
              "  max-width: 50ex;\n",
              "  color: var(--sklearn-color-text);\n",
              "  box-shadow: 2pt 2pt 4pt #999;\n",
              "  /* unfitted */\n",
              "  background: var(--sklearn-color-unfitted-level-0);\n",
              "  border: .5pt solid var(--sklearn-color-unfitted-level-3);\n",
              "}\n",
              "\n",
              ".sk-estimator-doc-link.fitted span {\n",
              "  /* fitted */\n",
              "  background: var(--sklearn-color-fitted-level-0);\n",
              "  border: var(--sklearn-color-fitted-level-3);\n",
              "}\n",
              "\n",
              ".sk-estimator-doc-link:hover span {\n",
              "  display: block;\n",
              "}\n",
              "\n",
              "/* \"?\"-specific style due to the `<a>` HTML tag */\n",
              "\n",
              "#sk-container-id-1 a.estimator_doc_link {\n",
              "  float: right;\n",
              "  font-size: 1rem;\n",
              "  line-height: 1em;\n",
              "  font-family: monospace;\n",
              "  background-color: var(--sklearn-color-background);\n",
              "  border-radius: 1rem;\n",
              "  height: 1rem;\n",
              "  width: 1rem;\n",
              "  text-decoration: none;\n",
              "  /* unfitted */\n",
              "  color: var(--sklearn-color-unfitted-level-1);\n",
              "  border: var(--sklearn-color-unfitted-level-1) 1pt solid;\n",
              "}\n",
              "\n",
              "#sk-container-id-1 a.estimator_doc_link.fitted {\n",
              "  /* fitted */\n",
              "  border: var(--sklearn-color-fitted-level-1) 1pt solid;\n",
              "  color: var(--sklearn-color-fitted-level-1);\n",
              "}\n",
              "\n",
              "/* On hover */\n",
              "#sk-container-id-1 a.estimator_doc_link:hover {\n",
              "  /* unfitted */\n",
              "  background-color: var(--sklearn-color-unfitted-level-3);\n",
              "  color: var(--sklearn-color-background);\n",
              "  text-decoration: none;\n",
              "}\n",
              "\n",
              "#sk-container-id-1 a.estimator_doc_link.fitted:hover {\n",
              "  /* fitted */\n",
              "  background-color: var(--sklearn-color-fitted-level-3);\n",
              "}\n",
              "</style><div id=\"sk-container-id-1\" class=\"sk-top-container\"><div class=\"sk-text-repr-fallback\"><pre>LinearSVC()</pre><b>In a Jupyter environment, please rerun this cell to show the HTML representation or trust the notebook. <br />On GitHub, the HTML representation is unable to render, please try loading this page with nbviewer.org.</b></div><div class=\"sk-container\" hidden><div class=\"sk-item\"><div class=\"sk-estimator fitted sk-toggleable\"><input class=\"sk-toggleable__control sk-hidden--visually\" id=\"sk-estimator-id-1\" type=\"checkbox\" checked><label for=\"sk-estimator-id-1\" class=\"sk-toggleable__label fitted sk-toggleable__label-arrow\"><div><div>LinearSVC</div></div><div><a class=\"sk-estimator-doc-link fitted\" rel=\"noreferrer\" target=\"_blank\" href=\"https://scikit-learn.org/1.6/modules/generated/sklearn.svm.LinearSVC.html\">?<span>Documentation for LinearSVC</span></a><span class=\"sk-estimator-doc-link fitted\">i<span>Fitted</span></span></div></label><div class=\"sk-toggleable__content fitted\"><pre>LinearSVC()</pre></div> </div></div></div></div>"
            ]
          },
          "metadata": {},
          "execution_count": 9
        }
      ]
    },
    {
      "cell_type": "code",
      "source": [
        "yhat1 = model_lr.predict(X_test)\n",
        "yhat2= model_rf.predict(X_test)\n",
        "yhat3 = model_knn.predict(X_test)\n",
        "yhat4 = model_dt.predict(X_test)\n",
        "yhat5 = model_lsvm.predict(X_test)\n"
      ],
      "metadata": {
        "id": "E2nUA3Qp0x87"
      },
      "execution_count": 10,
      "outputs": []
    },
    {
      "cell_type": "code",
      "source": [
        "# Now calculate metrics\n",
        "print('  [bold]  Algorithms:           Accuracy,    F1_Score,    Precision,    Recall[/bold]')\n",
        "print()\n",
        "\n",
        "# Logistic Regression\n",
        "accuracy1 = accuracy_score(y_test, yhat1)\n",
        "f1_lr = f1_score(y_test, yhat1, pos_label=\"b'TRUE'\")\n",
        "precision_lr = precision_score(y_test, yhat1, pos_label=\"b'TRUE'\")\n",
        "recall_lr = recall_score(y_test, yhat1, pos_label=\"b'TRUE'\")\n",
        "print('Logistic Regression:       %.2f,       %.2f,        %.2f,      %.2f' % (accuracy1*100, f1_lr*100, precision_lr*100, recall_lr*100))\n",
        "\n",
        "# Random Forest\n",
        "accuracy2 = accuracy_score(y_test, yhat2)\n",
        "f1_rf = f1_score(y_test, yhat2, pos_label=\"b'TRUE'\")\n",
        "precision_rf = precision_score(y_test, yhat2, pos_label=\"b'TRUE'\")\n",
        "recall_rf = recall_score(y_test, yhat2, pos_label=\"b'TRUE'\")\n",
        "print('Random Forest:             %.2f,       %.2f,        %.2f,      %.2f' % (accuracy2*100, f1_rf*100, precision_rf*100, recall_rf*100))\n",
        "\n",
        "# KNN\n",
        "accuracy3 = accuracy_score(y_test, yhat3)\n",
        "f1_knn = f1_score(y_test, yhat3, pos_label=\"b'TRUE'\")\n",
        "precision_knn = precision_score(y_test, yhat3, pos_label=\"b'TRUE'\")\n",
        "recall_knn = recall_score(y_test, yhat3, pos_label=\"b'TRUE'\")\n",
        "print('KNN:                       %.2f,       %.2f,        %.2f,      %.2f' % (accuracy3*100, f1_knn*100, precision_knn*100, recall_knn*100))\n",
        "\n",
        "# Decision Tree\n",
        "accuracy4 = accuracy_score(y_test, yhat4)\n",
        "f1_dt = f1_score(y_test, yhat4, pos_label=\"b'TRUE'\")\n",
        "precision_dt = precision_score(y_test, yhat4, pos_label=\"b'TRUE'\")\n",
        "recall_dt = recall_score(y_test, yhat4, pos_label=\"b'TRUE'\")\n",
        "print('Decision Tree:             %.2f,       %.2f,        %.2f,      %.2f' % (accuracy4*100, f1_dt*100, precision_dt*100, recall_dt*100))\n",
        "\n",
        "# Linear SVM\n",
        "accuracy5 = accuracy_score(y_test, yhat5)\n",
        "f1_lsvm = f1_score(y_test, yhat5, pos_label=\"b'TRUE'\")\n",
        "precision_lsvm = precision_score(y_test, yhat5, pos_label=\"b'TRUE'\")\n",
        "recall_lsvm = recall_score(y_test, yhat5, pos_label=\"b'TRUE'\")\n",
        "print('Linear SVM:                %.2f,       %.2f,        %.2f,      %.2f' % (accuracy5*100, f1_lsvm*100, precision_lsvm*100, recall_lsvm*100))"
      ],
      "metadata": {
        "id": "PKqdsMkJjqp2",
        "colab": {
          "base_uri": "https://localhost:8080/",
          "height": 119
        },
        "outputId": "c9f5b4b5-353c-4dcf-bdf2-09c749ee77d9"
      },
      "execution_count": 11,
      "outputs": [
        {
          "output_type": "display_data",
          "data": {
            "text/plain": [
              "  \u001b[1m  Algorithms:           Accuracy,    F1_Score,    Precision,    Recall\u001b[0m\n"
            ],
            "text/html": [
              "<pre style=\"white-space:pre;overflow-x:auto;line-height:normal;font-family:Menlo,'DejaVu Sans Mono',consolas,'Courier New',monospace\">  <span style=\"font-weight: bold\">  Algorithms:           Accuracy,    F1_Score,    Precision,    Recall</span>\n",
              "</pre>\n"
            ]
          },
          "metadata": {}
        },
        {
          "output_type": "display_data",
          "data": {
            "text/plain": [
              "\n"
            ],
            "text/html": [
              "<pre style=\"white-space:pre;overflow-x:auto;line-height:normal;font-family:Menlo,'DejaVu Sans Mono',consolas,'Courier New',monospace\">\n",
              "</pre>\n"
            ]
          },
          "metadata": {}
        },
        {
          "output_type": "display_data",
          "data": {
            "text/plain": [
              "Logistic Regression:       \u001b[1;36m92.47\u001b[0m,       \u001b[1;36m56.00\u001b[0m,        \u001b[1;36m73.68\u001b[0m,      \u001b[1;36m45.16\u001b[0m\n"
            ],
            "text/html": [
              "<pre style=\"white-space:pre;overflow-x:auto;line-height:normal;font-family:Menlo,'DejaVu Sans Mono',consolas,'Courier New',monospace\">Logistic Regression:       <span style=\"color: #008080; text-decoration-color: #008080; font-weight: bold\">92.47</span>,       <span style=\"color: #008080; text-decoration-color: #008080; font-weight: bold\">56.00</span>,        <span style=\"color: #008080; text-decoration-color: #008080; font-weight: bold\">73.68</span>,      <span style=\"color: #008080; text-decoration-color: #008080; font-weight: bold\">45.16</span>\n",
              "</pre>\n"
            ]
          },
          "metadata": {}
        },
        {
          "output_type": "display_data",
          "data": {
            "text/plain": [
              "Random Forest:             \u001b[1;36m92.12\u001b[0m,       \u001b[1;36m54.90\u001b[0m,        \u001b[1;36m70.00\u001b[0m,      \u001b[1;36m45.16\u001b[0m\n"
            ],
            "text/html": [
              "<pre style=\"white-space:pre;overflow-x:auto;line-height:normal;font-family:Menlo,'DejaVu Sans Mono',consolas,'Courier New',monospace\">Random Forest:             <span style=\"color: #008080; text-decoration-color: #008080; font-weight: bold\">92.12</span>,       <span style=\"color: #008080; text-decoration-color: #008080; font-weight: bold\">54.90</span>,        <span style=\"color: #008080; text-decoration-color: #008080; font-weight: bold\">70.00</span>,      <span style=\"color: #008080; text-decoration-color: #008080; font-weight: bold\">45.16</span>\n",
              "</pre>\n"
            ]
          },
          "metadata": {}
        },
        {
          "output_type": "display_data",
          "data": {
            "text/plain": [
              "KNN:                       \u001b[1;36m89.04\u001b[0m,       \u001b[1;36m40.74\u001b[0m,        \u001b[1;36m47.83\u001b[0m,      \u001b[1;36m35.48\u001b[0m\n"
            ],
            "text/html": [
              "<pre style=\"white-space:pre;overflow-x:auto;line-height:normal;font-family:Menlo,'DejaVu Sans Mono',consolas,'Courier New',monospace\">KNN:                       <span style=\"color: #008080; text-decoration-color: #008080; font-weight: bold\">89.04</span>,       <span style=\"color: #008080; text-decoration-color: #008080; font-weight: bold\">40.74</span>,        <span style=\"color: #008080; text-decoration-color: #008080; font-weight: bold\">47.83</span>,      <span style=\"color: #008080; text-decoration-color: #008080; font-weight: bold\">35.48</span>\n",
              "</pre>\n"
            ]
          },
          "metadata": {}
        },
        {
          "output_type": "display_data",
          "data": {
            "text/plain": [
              "Decision Tree:             \u001b[1;36m87.67\u001b[0m,       \u001b[1;36m43.75\u001b[0m,        \u001b[1;36m42.42\u001b[0m,      \u001b[1;36m45.16\u001b[0m\n"
            ],
            "text/html": [
              "<pre style=\"white-space:pre;overflow-x:auto;line-height:normal;font-family:Menlo,'DejaVu Sans Mono',consolas,'Courier New',monospace\">Decision Tree:             <span style=\"color: #008080; text-decoration-color: #008080; font-weight: bold\">87.67</span>,       <span style=\"color: #008080; text-decoration-color: #008080; font-weight: bold\">43.75</span>,        <span style=\"color: #008080; text-decoration-color: #008080; font-weight: bold\">42.42</span>,      <span style=\"color: #008080; text-decoration-color: #008080; font-weight: bold\">45.16</span>\n",
              "</pre>\n"
            ]
          },
          "metadata": {}
        },
        {
          "output_type": "display_data",
          "data": {
            "text/plain": [
              "Linear SVM:                \u001b[1;36m91.78\u001b[0m,       \u001b[1;36m47.83\u001b[0m,        \u001b[1;36m73.33\u001b[0m,      \u001b[1;36m35.48\u001b[0m\n"
            ],
            "text/html": [
              "<pre style=\"white-space:pre;overflow-x:auto;line-height:normal;font-family:Menlo,'DejaVu Sans Mono',consolas,'Courier New',monospace\">Linear SVM:                <span style=\"color: #008080; text-decoration-color: #008080; font-weight: bold\">91.78</span>,       <span style=\"color: #008080; text-decoration-color: #008080; font-weight: bold\">47.83</span>,        <span style=\"color: #008080; text-decoration-color: #008080; font-weight: bold\">73.33</span>,      <span style=\"color: #008080; text-decoration-color: #008080; font-weight: bold\">35.48</span>\n",
              "</pre>\n"
            ]
          },
          "metadata": {}
        }
      ]
    },
    {
      "cell_type": "code",
      "source": [
        "import matplotlib.pyplot as plt\n",
        "\n",
        "# Accuracy values\n",
        "accuracy_values = [accuracy1, accuracy2, accuracy3, accuracy4, accuracy5]\n",
        "\n",
        "# F1 score values\n",
        "f1_score_values = [f1_lr, f1_rf, f1_knn, f1_dt, f1_lsvm]\n",
        "\n",
        "# Precision values\n",
        "precision_values = [precision_lr, precision_rf, precision_knn, precision_dt, precision_lsvm]\n",
        "\n",
        "# Recall values\n",
        "recall_values = [recall_lr, recall_rf, recall_knn, recall_dt, recall_lsvm]\n",
        "\n",
        "classifiers = ['Logistic Regression', 'Random Forest', 'KNN', 'Decision Tree', 'Linear SVM']\n",
        "\n",
        "# Plotting the bar plot\n",
        "x = range(len(classifiers))\n",
        "width = 0.2\n",
        "\n",
        "# Increase the figure size here\n",
        "fig, ax = plt.subplots(figsize=(9, 6))  # Adjust width and height as needed\n",
        "rects1 = ax.bar(x, accuracy_values, width, label='Accuracy')\n",
        "rects2 = ax.bar([i + width for i in x], f1_score_values, width, label='F1 Score')\n",
        "rects3 = ax.bar([i + (width*2) for i in x], precision_values, width, label='Precision')\n",
        "rects4 = ax.bar([i + (width*3) for i in x], recall_values, width, label='Recall')\n",
        "\n",
        "# Adding labels, title, and legend\n",
        "ax.set_xlabel('Classifiers')\n",
        "ax.set_ylabel('Scores')\n",
        "ax.set_title('Evaluation Metrics for Classifiers')\n",
        "ax.set_xticks([i + width*1.4 for i in x])\n",
        "ax.set_xticklabels(classifiers)\n",
        "ax.legend()\n",
        "\n",
        "# Displaying the plot\n",
        "plt.show()"
      ],
      "metadata": {
        "colab": {
          "base_uri": "https://localhost:8080/",
          "height": 564
        },
        "id": "9o7kC8MgsJsF",
        "outputId": "fed136e0-37cf-4016-db02-3d665e5172d7"
      },
      "execution_count": 12,
      "outputs": [
        {
          "output_type": "display_data",
          "data": {
            "text/plain": [
              "<Figure size 900x600 with 1 Axes>"
            ],
            "image/png": "[encoded data removed]"
          },
          "metadata": {}
        }
      ]
    },
    {
      "cell_type": "code",
      "source": [],
      "metadata": {
        "id": "YwUaPdMJ0kE2"
      },
      "execution_count": null,
      "outputs": []
    }
  ]
}